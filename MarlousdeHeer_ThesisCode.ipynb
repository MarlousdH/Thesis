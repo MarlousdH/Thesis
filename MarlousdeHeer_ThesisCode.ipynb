{
 "cells": [
  {
   "cell_type": "code",
   "execution_count": 1,
   "metadata": {},
   "outputs": [],
   "source": [
    "#imports\n",
    "import scipy.io\n",
    "import numpy as np\n",
    "import pandas as pd\n",
    "\n",
    "from sklearn.linear_model import LinearRegression\n",
    "\n",
    "import seaborn as sns\n",
    "\n",
    "from scipy import stats\n",
    "\n",
    "from matplotlib import pyplot as plt\n",
    "\n",
    "import statsmodels.api as sm"
   ]
  },
  {
   "cell_type": "code",
   "execution_count": 2,
   "metadata": {},
   "outputs": [],
   "source": [
    "# Read data\n",
    "from pandas import read_csv\n",
    "data = read_csv('data_update.csv', sep= ';')\n",
    "# pick only useful columns\n",
    "data = data[['age_beh', 'LF_M']]"
   ]
  },
  {
   "cell_type": "code",
   "execution_count": 3,
   "metadata": {},
   "outputs": [],
   "source": [
    "#Make arrays of the words produced so you can work with it\n",
    "\n",
    "data['LF_M'] = data['LF_M'].apply(lambda s : s.split(','))"
   ]
  },
  {
   "cell_type": "code",
   "execution_count": 4,
   "metadata": {},
   "outputs": [
    {
     "name": "stdout",
     "output_type": "stream",
     "text": [
      "[18, 18, 36, 21, 16, 23, 26, 20, 16, 14, 18, 21, 19, 21, 18, 28, 24, 18, 26, 17, 10, 10, 22, 5, 25, 15, 14, 20, 15, 13, 12, 20, 15, 17, 11, 21, 21, 21, 23, 8, 18]\n"
     ]
    }
   ],
   "source": [
    "#count the amount of M's and add it to the dataframe\n",
    "M_count = []\n",
    "\n",
    "for i in range (0, len(data)):\n",
    "    M_count.append(len(data.iloc[i,1]))\n",
    "    \n",
    "print(M_count)\n",
    "data.insert(2, \"M_count\", M_count)"
   ]
  },
  {
   "cell_type": "code",
   "execution_count": 5,
   "metadata": {},
   "outputs": [],
   "source": [
    "one_sound = ['a', 'e', 'o', 'u', 'i']\n",
    "two_sound = ['aa', 'ee', 'oo', 'uu', 'ae', 'ai', 'au', 'ei', 'eu', 'ie', 'oe', 'oi', 'ou', 'ui']\n",
    "three_sound = ['aai', 'ieu', 'ooi', 'oei']\n",
    "    \n",
    "def get_syl(word, count):\n",
    "    if word[0] in one_sound:\n",
    "        if word[0:2] in two_sound:\n",
    "            if word[0:3] in three_sound:\n",
    "                count+=1\n",
    "                if len(word)>3:\n",
    "                     return get_syl(word[3:], count)\n",
    "                else: return count\n",
    "            else: \n",
    "                count+=1\n",
    "                if len(word)>2:\n",
    "                    return get_syl(word[2:], count)\n",
    "                else: \n",
    "                    return count\n",
    "        else:\n",
    "            count+=1\n",
    "            if len(word)>1:\n",
    "                return get_syl(word[1:], count)\n",
    "            else: \n",
    "                return count\n",
    "    else:\n",
    "        if len(word) == 1:\n",
    "            return count\n",
    "        if len(word)>0:\n",
    "            return get_syl(word[1:], count)\n",
    "        else: \n",
    "            return count\n",
    "    return count"
   ]
  },
  {
   "cell_type": "code",
   "execution_count": 6,
   "metadata": {},
   "outputs": [],
   "source": [
    "M_long = []\n",
    "\n",
    "for lists in data['LF_M']:\n",
    "    count_long = 0\n",
    "    count_short = 0\n",
    "    for word in lists:\n",
    "        if get_syl(word,0) > 1:\n",
    "            count_long+=1\n",
    "        elif get_syl(word,0)== 1:\n",
    "            count_short+=1\n",
    "    M_long.append(count_long)"
   ]
  },
  {
   "cell_type": "code",
   "execution_count": 7,
   "metadata": {},
   "outputs": [],
   "source": [
    "data.insert(3, \"M_long\", M_long)"
   ]
  },
  {
   "cell_type": "code",
   "execution_count": 8,
   "metadata": {},
   "outputs": [
    {
     "data": {
      "text/plain": [
       "<AxesSubplot:xlabel='M_count', ylabel='M_long'>"
      ]
     },
     "execution_count": 8,
     "metadata": {},
     "output_type": "execute_result"
    },
    {
     "data": {
      "image/png": "[encoded data removed]",
      "text/plain": [
       "<Figure size 432x288 with 1 Axes>"
      ]
     },
     "metadata": {
      "needs_background": "light"
     },
     "output_type": "display_data"
    }
   ],
   "source": [
    "data.plot.scatter('M_count', 'M_long')"
   ]
  },
  {
   "cell_type": "code",
   "execution_count": 9,
   "metadata": {},
   "outputs": [
    {
     "data": {
      "text/html": [
       "<div>\n",
       "<style scoped>\n",
       "    .dataframe tbody tr th:only-of-type {\n",
       "        vertical-align: middle;\n",
       "    }\n",
       "\n",
       "    .dataframe tbody tr th {\n",
       "        vertical-align: top;\n",
       "    }\n",
       "\n",
       "    .dataframe thead th {\n",
       "        text-align: right;\n",
       "    }\n",
       "</style>\n",
       "<table border=\"1\" class=\"dataframe\">\n",
       "  <thead>\n",
       "    <tr style=\"text-align: right;\">\n",
       "      <th></th>\n",
       "      <th>M_count</th>\n",
       "      <th>M_long</th>\n",
       "    </tr>\n",
       "  </thead>\n",
       "  <tbody>\n",
       "    <tr>\n",
       "      <th>M_count</th>\n",
       "      <td>1.000000</td>\n",
       "      <td>0.815395</td>\n",
       "    </tr>\n",
       "    <tr>\n",
       "      <th>M_long</th>\n",
       "      <td>0.815395</td>\n",
       "      <td>1.000000</td>\n",
       "    </tr>\n",
       "  </tbody>\n",
       "</table>\n",
       "</div>"
      ],
      "text/plain": [
       "          M_count    M_long\n",
       "M_count  1.000000  0.815395\n",
       "M_long   0.815395  1.000000"
      ]
     },
     "execution_count": 9,
     "metadata": {},
     "output_type": "execute_result"
    }
   ],
   "source": [
    "check = data[['M_count', 'M_long']]\n",
    "check.corr()"
   ]
  },
  {
   "cell_type": "code",
   "execution_count": 10,
   "metadata": {},
   "outputs": [
    {
     "data": {
      "text/plain": [
       "Ttest_relResult(statistic=array([10.49687792]), pvalue=array([4.68240608e-13]))"
      ]
     },
     "execution_count": 10,
     "metadata": {},
     "output_type": "execute_result"
    }
   ],
   "source": [
    "stats.ttest_rel(data[['M_count']], data[['M_long']])"
   ]
  },
  {
   "cell_type": "code",
   "execution_count": 11,
   "metadata": {},
   "outputs": [
    {
     "data": {
      "image/png": "[encoded data removed]",
      "text/plain": [
       "<Figure size 432x288 with 1 Axes>"
      ]
     },
     "metadata": {
      "needs_background": "light"
     },
     "output_type": "display_data"
    },
    {
     "data": {
      "image/png": "[encoded data removed]",
      "text/plain": [
       "<Figure size 432x288 with 1 Axes>"
      ]
     },
     "metadata": {
      "needs_background": "light"
     },
     "output_type": "display_data"
    }
   ],
   "source": [
    "data.hist('M_count')\n",
    "plt.xlabel('count')\n",
    "plt.ylabel('frequency')\n",
    "plt.show()\n",
    "\n",
    "\n",
    "data.hist('M_long')\n",
    "plt.xlabel('count')\n",
    "plt.ylabel('frequency')\n",
    "plt.show()"
   ]
  },
  {
   "cell_type": "code",
   "execution_count": 12,
   "metadata": {},
   "outputs": [],
   "source": [
    "age_cat = []\n",
    "\n",
    "for age in data['age_beh']:\n",
    "    n = 0\n",
    "    if age < 30:\n",
    "        n=0\n",
    "    if age > 50:\n",
    "        n=1\n",
    "    age_cat.append(n)"
   ]
  },
  {
   "cell_type": "code",
   "execution_count": 13,
   "metadata": {},
   "outputs": [],
   "source": [
    "data.insert(4, \"age_cat\", age_cat)"
   ]
  },
  {
   "cell_type": "code",
   "execution_count": 22,
   "metadata": {},
   "outputs": [
    {
     "name": "stdout",
     "output_type": "stream",
     "text": [
      "                            OLS Regression Results                            \n",
      "==============================================================================\n",
      "Dep. Variable:                M_count   R-squared:                       0.705\n",
      "Model:                            OLS   Adj. R-squared:                  0.689\n",
      "Method:                 Least Squares   F-statistic:                     45.37\n",
      "Date:                Tue, 16 Jan 2024   Prob (F-statistic):           8.55e-11\n",
      "Time:                        11:15:34   Log-Likelihood:                -104.64\n",
      "No. Observations:                  41   AIC:                             215.3\n",
      "Df Residuals:                      38   BIC:                             220.4\n",
      "Df Model:                           2                                         \n",
      "Covariance Type:            nonrobust                                         \n",
      "==============================================================================\n",
      "                 coef    std err          t      P>|t|      [0.025      0.975]\n",
      "------------------------------------------------------------------------------\n",
      "const          7.3184      1.949      3.755      0.001       3.373      11.264\n",
      "age_cat       -2.4576      1.084     -2.268      0.029      -4.652      -0.264\n",
      "M_long         0.9668      0.123      7.872      0.000       0.718       1.215\n",
      "==============================================================================\n",
      "Omnibus:                        7.538   Durbin-Watson:                   2.386\n",
      "Prob(Omnibus):                  0.023   Jarque-Bera (JB):                3.128\n",
      "Skew:                           0.382   Prob(JB):                        0.209\n",
      "Kurtosis:                       1.883   Cond. No.                         56.3\n",
      "==============================================================================\n",
      "\n",
      "Warnings:\n",
      "[1] Standard Errors assume that the covariance matrix of the errors is correctly specified.\n"
     ]
    }
   ],
   "source": [
    "y = data['M_count']\n",
    "x = data[['age_cat', 'M_long']]\n",
    "x = sm.add_constant(x)\n",
    "\n",
    "model = sm.OLS(y, x).fit()\n",
    "\n",
    "print(model.summary())"
   ]
  }
 ],
 "metadata": {
  "kernelspec": {
   "display_name": "Python 3",
   "language": "python",
   "name": "python3"
  },
  "language_info": {
   "codemirror_mode": {
    "name": "ipython",
    "version": 3
   },
   "file_extension": ".py",
   "mimetype": "text/x-python",
   "name": "python",
   "nbconvert_exporter": "python",
   "pygments_lexer": "ipython3",
   "version": "3.8.3"
  }
 },
 "nbformat": 4,
 "nbformat_minor": 4
}
